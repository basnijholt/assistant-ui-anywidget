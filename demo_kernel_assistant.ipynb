{
 "cells": [
  {
   "cell_type": "markdown",
   "metadata": {},
   "source": [
    "# AI Assistant Widget with Kernel Access Demo\n",
    "\n",
    "This notebook demonstrates the capabilities of the enhanced assistant widget that can interact with your Jupyter kernel."
   ]
  },
  {
   "cell_type": "code",
   "execution_count": null,
   "metadata": {},
   "outputs": [],
   "source": "# Import the enhanced widget\nfrom assistant_ui_anywidget.enhanced_agent_widget import EnhancedAgentWidget\nimport numpy as np\nimport pandas as pd\nimport os\n\n# Optional: Set your AI provider API key\n# os.environ['OPENAI_API_KEY'] = 'your-key-here'\n# os.environ['ANTHROPIC_API_KEY'] = 'your-key-here' \n# os.environ['GOOGLE_API_KEY'] = 'your-key-here'"
  },
  {
   "cell_type": "markdown",
   "metadata": {},
   "source": [
    "## 1. Create Some Variables to Explore\n",
    "\n",
    "Let's create various types of variables that the assistant can inspect:"
   ]
  },
  {
   "cell_type": "code",
   "execution_count": null,
   "metadata": {},
   "outputs": [],
   "source": [
    "# Create some sample data\n",
    "x = 42\n",
    "y = \"Hello, AI Assistant!\"\n",
    "numbers = [1, 2, 3, 4, 5]\n",
    "\n",
    "# Create a numpy array\n",
    "data_array = np.random.randn(100, 3)\n",
    "\n",
    "# Create a pandas DataFrame\n",
    "df = pd.DataFrame({\n",
    "    'A': np.random.randn(100),\n",
    "    'B': np.random.randn(100),\n",
    "    'C': np.random.choice(['cat', 'dog', 'bird'], 100)\n",
    "})\n",
    "\n",
    "# Define a function\n",
    "def calculate_mean(values):\n",
    "    \"\"\"Calculate the mean of a list of values.\"\"\"\n",
    "    return sum(values) / len(values)\n",
    "\n",
    "print(\"Variables created successfully!\")"
   ]
  },
  {
   "cell_type": "markdown",
   "metadata": {},
   "source": [
    "## 2. Create and Display the Assistant Widget"
   ]
  },
  {
   "cell_type": "code",
   "execution_count": null,
   "metadata": {},
   "outputs": [],
   "source": "# Create the enhanced widget with AI configuration\nassistant = EnhancedAgentWidget(\n    ai_config={\n        # 'provider': 'openai',  # or 'anthropic', 'google_genai'\n        # 'model': 'gpt-3.5-turbo',  # or 'claude-3-haiku', 'gemini-pro'\n        'require_approval': False,  # Auto-approve code execution for demo\n    }\n)\n\n# Display it\nassistant"
  },
  {
   "cell_type": "markdown",
   "metadata": {},
   "source": "## 3. Ways to Interact\n\nYou can interact with the assistant in two ways:\n\n### Natural Language (AI-Powered)\nJust type naturally! The AI understands your intent and uses kernel tools automatically:\n- \"Show me all my variables\"\n- \"What's the shape of data_array?\"\n- \"Calculate the correlation between columns A and B in df\"\n- \"Create a histogram of column A\"\n- \"Help me understand this error\"\n\n### Direct Commands\nFor precise control, use slash commands:\n\n**Variable Exploration**\n- `/vars` - List all variables in the kernel\n- `/inspect df` - Get detailed information about the DataFrame\n- `/inspect data_array` - Inspect the numpy array\n- `/inspect calculate_mean` - Look at the function\n\n**Code Execution**\n- `/exec df.describe()` - Run DataFrame describe\n- `/exec print(data_array.shape)` - Check array shape\n- `/exec result = calculate_mean(numbers)` - Execute the function\n- `/exec print(f\"Mean: {result}\")` - Print the result\n\n**Other Commands**\n- `/help` - Show all available commands\n- `/clear` - Clear the namespace (with confirmation)"
  },
  {
   "cell_type": "markdown",
   "source": "## AI Integration\n\nThe assistant now has AI capabilities! It can:\n\n1. **Understand Natural Language**: Ask questions in plain English\n2. **Access Your Kernel**: The AI can see and analyze your variables\n3. **Execute Code**: Ask it to perform calculations or transformations\n4. **Debug Issues**: Get help understanding errors and problems\n\n### Example Questions to Try:\n\n- \"What variables do I have in my namespace?\"\n- \"Can you show me what's in the df variable?\"\n- \"Calculate the mean of column A in df\"\n- \"Create a scatter plot of the data_array\"\n- \"Why am I getting an error with undefined_variable?\"\n\n### AI Providers:\n\nThe widget supports multiple AI providers:\n- **OpenAI**: GPT-3.5, GPT-4\n- **Anthropic**: Claude 3 models\n- **Google**: Gemini Pro\n\nIf no API key is set, it uses a helpful mock AI that still has full kernel access!",
   "metadata": {}
  },
  {
   "cell_type": "markdown",
   "metadata": {},
   "source": [
    "## 4. Programmatic Interaction\n",
    "\n",
    "You can also interact with the widget programmatically:"
   ]
  },
  {
   "cell_type": "code",
   "execution_count": null,
   "metadata": {},
   "outputs": [],
   "source": [
    "# Add a message from Python\n",
    "assistant.add_message(\"assistant\", \"Let me help you explore your kernel variables!\")\n",
    "\n",
    "# Inspect a variable programmatically\n",
    "df_info = assistant.inspect_variable(\"df\")\n",
    "if df_info:\n",
    "    print(f\"DataFrame shape: {df_info['shape']}\")\n",
    "    print(f\"DataFrame type: {df_info['type']}\")"
   ]
  },
  {
   "cell_type": "code",
   "execution_count": null,
   "metadata": {},
   "outputs": [],
   "source": [
    "# Execute code and show result\n",
    "result = assistant.execute_code(\"df['A'].mean()\", show_result=True)\n",
    "print(f\"\\nExecution successful: {result['success']}\")"
   ]
  },
  {
   "cell_type": "code",
   "execution_count": null,
   "metadata": {},
   "outputs": [],
   "source": [
    "# Set action buttons for quick operations\n",
    "assistant.set_action_buttons([\n",
    "    {\"text\": \"Show Variables\", \"color\": \"#28a745\", \"icon\": \"📊\"},\n",
    "    {\"text\": \"Run df.info()\", \"color\": \"#007bff\", \"icon\": \"▶️\"},\n",
    "    {\"text\": \"Clear Output\", \"color\": \"#6c757d\", \"icon\": \"🧹\"}\n",
    "])"
   ]
  },
  {
   "cell_type": "markdown",
   "metadata": {},
   "source": [
    "## 5. Create an Error for Debugging Demo"
   ]
  },
  {
   "cell_type": "code",
   "execution_count": null,
   "metadata": {},
   "outputs": [],
   "source": [
    "# This will create an error\n",
    "try:\n",
    "    undefined_variable\n",
    "except NameError as e:\n",
    "    print(f\"Error caught: {e}\")\n",
    "    # The assistant can help debug this!"
   ]
  },
  {
   "cell_type": "markdown",
   "metadata": {},
   "source": [
    "## 6. Advanced Features\n",
    "\n",
    "### Current Kernel State"
   ]
  },
  {
   "cell_type": "code",
   "execution_count": null,
   "metadata": {},
   "outputs": [],
   "source": [
    "# Check the kernel state\n",
    "print(\"Kernel State:\")\n",
    "print(f\"Available: {assistant.kernel_state['available']}\")\n",
    "print(f\"Status: {assistant.kernel_state['status']}\")\n",
    "print(f\"Namespace size: {assistant.kernel_state['namespace_size']}\")\n",
    "print(f\"Variables by type: {assistant.kernel_state['variables_by_type']}\")"
   ]
  },
  {
   "cell_type": "markdown",
   "metadata": {},
   "source": [
    "### Variable Information"
   ]
  },
  {
   "cell_type": "code",
   "execution_count": null,
   "metadata": {},
   "outputs": [],
   "source": [
    "# Get detailed variable information\n",
    "print(\"Variables in namespace:\")\n",
    "for var_info in assistant.variables_info[:5]:  # Show first 5\n",
    "    print(f\"- {var_info['name']}: {var_info['type']} \"\n",
    "          f\"{'(callable)' if var_info['is_callable'] else ''}\")"
   ]
  },
  {
   "cell_type": "markdown",
   "metadata": {},
   "source": "## Summary\n\nThe enhanced assistant widget provides:\n\n1. **AI-Powered Assistant** - Natural language understanding with multiple provider support\n2. **Direct Kernel Access** - Read and execute code in your notebook's kernel\n3. **Variable Inspection** - Deep inspection of any variable type\n4. **Interactive Commands** - Simple slash commands for common operations\n5. **Programmatic API** - Full control from Python code\n6. **Real-time Updates** - Kernel state synchronized with the UI\n\nThe AI assistant can:\n- Understand your questions and provide intelligent responses\n- Automatically use kernel tools to inspect variables and execute code\n- Help debug errors and understand your data\n- Work even without an API key (using a helpful mock AI)\n\nThis creates a powerful AI assistant that truly understands your notebook context!"
  }
 ],
 "metadata": {
  "kernelspec": {
   "display_name": ".venv",
   "language": "python",
   "name": "python3"
  },
  "language_info": {
   "codemirror_mode": {
    "name": "ipython",
    "version": 3
   },
   "file_extension": ".py",
   "mimetype": "text/x-python",
   "name": "python",
   "nbconvert_exporter": "python",
   "pygments_lexer": "ipython3",
   "version": "3.11.12"
  }
 },
 "nbformat": 4,
 "nbformat_minor": 4
}