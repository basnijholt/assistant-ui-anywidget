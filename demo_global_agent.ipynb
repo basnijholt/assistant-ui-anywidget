{
 "cells": [
  {
   "cell_type": "markdown",
   "metadata": {},
   "source": [
    "# Global Agent Demo - Simple Notebook Interface\n",
    "\n",
    "This notebook demonstrates the new global agent interface that prevents keyboard shortcut conflicts in Jupyter notebooks."
   ]
  },
  {
   "cell_type": "markdown",
   "metadata": {},
   "source": [
    "## 1. Import and Get Agent (Simple Way)\n",
    "\n",
    "The new interface provides a simple way to get an AI assistant without worrying about keyboard conflicts:"
   ]
  },
  {
   "cell_type": "code",
   "execution_count": null,
   "metadata": {},
   "outputs": [],
   "source": [
    "# The new recommended way - simple and safe!\n",
    "from assistant_ui_anywidget import get_agent\n",
    "\n",
    "# Get the global agent instance (creates if doesn't exist)\n",
    "agent = get_agent()\n",
    "agent"
   ]
  },
  {
   "cell_type": "markdown",
   "metadata": {},
   "source": [
    "## 2. Even Simpler - Direct Display\n",
    "\n",
    "For the ultimate convenience, just display the agent directly:"
   ]
  },
  {
   "cell_type": "code",
   "execution_count": null,
   "metadata": {},
   "outputs": [],
   "source": [
    "# Even simpler - get and display in one line\n",
    "from assistant_ui_anywidget import display_agent\n",
    "\n",
    "display_agent()"
   ]
  },
  {
   "cell_type": "markdown",
   "metadata": {},
   "source": [
    "## 3. Short Alias Version\n",
    "\n",
    "For the absolute shortest code:"
   ]
  },
  {
   "cell_type": "code",
   "execution_count": null,
   "metadata": {},
   "outputs": [],
   "source": [
    "# Shortest way using alias\n",
    "from assistant_ui_anywidget import agent\n",
    "\n",
    "my_agent = agent()\n",
    "my_agent"
   ]
  },
  {
   "cell_type": "markdown",
   "metadata": {},
   "source": [
    "## 4. Key Benefits\n",
    "\n",
    "### 🔥 **Keyboard Safety**\n",
    "- Uses **Ctrl+D** to send messages (not Shift+Enter)\n",
    "- No more accidental cell execution when chatting!\n",
    "- Works consistently across different Jupyter environments\n",
    "\n",
    "### 🎯 **Global State**\n",
    "- Same agent instance across all notebook cells\n",
    "- Persistent chat history and configuration\n",
    "- No need to pass around widget instances\n",
    "\n",
    "### ⚡ **Simple API**\n",
    "- One line to get started: `get_agent()`\n",
    "- Sensible defaults (auto-approve code, auto-detect AI provider)\n",
    "- Thread-safe global state management"
   ]
  },
  {
   "cell_type": "markdown",
   "metadata": {},
   "source": [
    "## 5. Create Some Test Data\n",
    "\n",
    "Let's create some variables the agent can explore:"
   ]
  },
  {
   "cell_type": "code",
   "execution_count": null,
   "metadata": {},
   "outputs": [],
   "source": [
    "import numpy as np\n",
    "import pandas as pd\n",
    "\n",
    "# Create test data\n",
    "x = 42\n",
    "data = np.random.randn(100, 3)\n",
    "df = pd.DataFrame(\n",
    "    {\n",
    "        \"A\": np.random.randn(50),\n",
    "        \"B\": np.random.randn(50),\n",
    "        \"C\": np.random.choice([\"cat\", \"dog\", \"bird\"], 50),\n",
    "    }\n",
    ")\n",
    "\n",
    "print(\"Test data created! Ask the agent to explore it.\")\n",
    "print(\"Try: 'Show me all my variables' or 'What's in my DataFrame?'\")"
   ]
  },
  {
   "cell_type": "markdown",
   "metadata": {},
   "source": [
    "## 6. Agent Management Functions\n",
    "\n",
    "Additional utilities for managing the global agent:"
   ]
  },
  {
   "cell_type": "code",
   "execution_count": null,
   "metadata": {},
   "outputs": [],
   "source": [
    "from assistant_ui_anywidget import has_agent, get_agent_info\n",
    "\n",
    "# Check if agent exists\n",
    "print(f\"Has agent: {has_agent()}\")\n",
    "\n",
    "# Get agent information\n",
    "info = get_agent_info()\n",
    "print(f\"Agent info: {info}\")\n",
    "\n",
    "# Reset agent (creates fresh instance next time)\n",
    "# reset_agent()  # Uncomment to reset"
   ]
  },
  {
   "cell_type": "markdown",
   "metadata": {},
   "source": [
    "## 7. Custom Configuration\n",
    "\n",
    "You can still customize the agent configuration:"
   ]
  },
  {
   "cell_type": "code",
   "execution_count": null,
   "metadata": {},
   "outputs": [],
   "source": [
    "# Create agent with custom configuration\n",
    "custom_agent = get_agent(\n",
    "    ai_config={\n",
    "        \"require_approval\": True,  # Ask before executing code\n",
    "        \"provider\": \"openai\",  # Force specific provider\n",
    "        \"model\": \"gpt-4\",  # Force specific model\n",
    "        \"temperature\": 0.3,  # Make responses more focused\n",
    "    },\n",
    "    reset=True,  # Create fresh instance\n",
    ")\n",
    "\n",
    "print(\"Custom agent created with approval required!\")"
   ]
  },
  {
   "cell_type": "markdown",
   "metadata": {},
   "source": [
    "## 8. Migration from Old Interface\n",
    "\n",
    "If you were using the old way:\n",
    "\n",
    "```python\n",
    "# OLD WAY (still works, but not recommended)\n",
    "from assistant_ui_anywidget import EnhancedAgentWidget\n",
    "widget = EnhancedAgentWidget()\n",
    "```\n",
    "\n",
    "**New recommended way:**\n",
    "\n",
    "```python\n",
    "# NEW WAY (recommended)\n",
    "from assistant_ui_anywidget import get_agent\n",
    "agent = get_agent()\n",
    "```\n",
    "\n",
    "### Benefits of Migration:\n",
    "- ✅ No more accidental cell execution with Shift+Enter\n",
    "- ✅ Global state management across cells\n",
    "- ✅ Better defaults for notebook use\n",
    "- ✅ Cleaner, more intuitive API"
   ]
  },
  {
   "cell_type": "markdown",
   "metadata": {},
   "source": [
    "## 💡 Usage Tips\n",
    "\n",
    "1. **Sending Messages**: Use **Ctrl+D** (or Cmd+D on Mac) to send messages\n",
    "2. **Global Instance**: The same agent persists across all cells - no need to recreate\n",
    "3. **Auto-Configuration**: The agent auto-detects available AI providers (OpenAI, Anthropic, Google)\n",
    "4. **Slash Commands**: Use `/vars`, `/help`, `/exec code` for direct control\n",
    "5. **Natural Language**: Just ask questions like \"Show me my DataFrame\" or \"Help debug this error\"\n",
    "\n",
    "**Remember**: Use **Ctrl+D** to chat, **Shift+Enter** to execute cells!"
   ]
  }
 ],
 "metadata": {
  "kernelspec": {
   "display_name": "Python 3",
   "language": "python",
   "name": "python3"
  },
  "language_info": {
   "codemirror_mode": {
    "name": "ipython",
    "version": 3
   },
   "file_extension": ".py",
   "mimetype": "text/x-python",
   "name": "python",
   "nbconvert_exporter": "python",
   "pygments_lexer": "ipython3",
   "version": "3.11.0"
  }
 },
 "nbformat": 4,
 "nbformat_minor": 4
}
