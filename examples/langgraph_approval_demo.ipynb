{
 "cells": [
  {
   "cell_type": "markdown",
   "metadata": {},
   "source": [
    "# LangGraph Approval Workflow Demo\n",
    "\n",
    "This notebook demonstrates the LangGraph-based AI service with approval workflows."
   ]
  },
  {
   "cell_type": "code",
   "execution_count": null,
   "metadata": {},
   "outputs": [],
   "source": [
    "from assistant_ui_anywidget import AgentWidget\n",
    "\n",
    "# Create a widget with LangGraph and approval enabled\n",
    "widget = AgentWidget(\n",
    "    ai_config={\n",
    "        \"use_langgraph\": True,\n",
    "        \"require_approval\": True,  # Require approval for code execution\n",
    "        \"provider\": \"auto\",\n",
    "    }\n",
    ")\n",
    "\n",
    "# Display the widget\n",
    "widget"
   ]
  },
  {
   "cell_type": "markdown",
   "metadata": {},
   "source": [
    "## How It Works\n",
    "\n",
    "1. **Automatic Execution** for read-only operations:\n",
    "   - `get_variables()` - Lists all variables\n",
    "   - `inspect_variable(name)` - Inspects a specific variable\n",
    "   - `kernel_info()` - Shows kernel status\n",
    "\n",
    "2. **Approval Required** for code execution:\n",
    "   - `execute_code(code)` - Requires your approval before running\n",
    "\n",
    "Try these examples:\n",
    "- \"Show me all variables\" (automatic)\n",
    "- \"What's in the variable x?\" (automatic)\n",
    "- \"Execute x = 42\" (requires approval)\n",
    "- \"Run print('Hello World')\" (requires approval)"
   ]
  },
  {
   "cell_type": "code",
   "execution_count": null,
   "metadata": {},
   "outputs": [],
   "source": [
    "# Create some test data\n",
    "x = 42\n",
    "data = [1, 2, 3, 4, 5]\n",
    "message = \"Hello from Jupyter!\""
   ]
  },
  {
   "cell_type": "markdown",
   "metadata": {},
   "source": [
    "## Comparison with Simple Service\n",
    "\n",
    "You can also use the simple service without LangGraph:"
   ]
  },
  {
   "cell_type": "code",
   "execution_count": null,
   "metadata": {},
   "outputs": [],
   "source": [
    "# Create a widget with simple service (no approval workflow)\n",
    "simple_widget = AgentWidget(\n",
    "    ai_config={\n",
    "        \"use_langgraph\": False,  # Use simple service\n",
    "        \"provider\": \"auto\",\n",
    "    }\n",
    ")\n",
    "\n",
    "simple_widget"
   ]
  }
 ],
 "metadata": {
  "kernelspec": {
   "display_name": "Python 3",
   "language": "python",
   "name": "python3"
  },
  "language_info": {
   "codemirror_mode": {
    "name": "ipython",
    "version": 3
   },
   "file_extension": ".py",
   "mimetype": "text/x-python",
   "name": "python",
   "nbconvert_exporter": "python",
   "pygments_lexer": "ipython3",
   "version": "3.11.0"
  }
 },
 "nbformat": 4,
 "nbformat_minor": 4
}
