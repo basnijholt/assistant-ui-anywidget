{
 "cells": [
  {
   "cell_type": "markdown",
   "metadata": {},
   "source": [
    "# AI Assistant Widget with Kernel Access Demo\n",
    "\n",
    "This notebook demonstrates the capabilities of the assistant widget that can interact with your Jupyter kernel."
   ]
  },
  {
   "cell_type": "code",
   "execution_count": null,
   "metadata": {},
   "outputs": [],
   "source": [
    "# Import the agent widget\n",
    "from assistant_ui_anywidget import AgentWidget\n",
    "import numpy as np\n",
    "import pandas as pd\n",
    "\n",
    "# The widget automatically loads API keys from a .env file\n",
    "# You can also set them manually:\n",
    "# os.environ['OPENAI_API_KEY'] = 'your-key-here'\n",
    "# os.environ['ANTHROPIC_API_KEY'] = 'your-key-here'\n",
    "# os.environ['GOOGLE_API_KEY'] = 'your-key-here'\n",
    "\n",
    "# Note: If only one API key is set (e.g., only Google), it will be used automatically!"
   ]
  },
  {
   "cell_type": "markdown",
   "metadata": {},
   "source": [
    "## 1. Create Some Variables to Explore\n",
    "\n",
    "Let's create various types of variables that the assistant can inspect:"
   ]
  },
  {
   "cell_type": "code",
   "execution_count": null,
   "metadata": {},
   "outputs": [],
   "source": [
    "# Create some sample data\n",
    "x = 42\n",
    "y = \"Hello, AI Assistant!\"\n",
    "numbers = [1, 2, 3, 4, 5]\n",
    "\n",
    "# Create a numpy array\n",
    "data_array = np.random.randn(100, 3)\n",
    "\n",
    "# Create a pandas DataFrame\n",
    "df = pd.DataFrame(\n",
    "    {\n",
    "        \"A\": np.random.randn(100),\n",
    "        \"B\": np.random.randn(100),\n",
    "        \"C\": np.random.choice([\"cat\", \"dog\", \"bird\"], 100),\n",
    "    }\n",
    ")\n",
    "\n",
    "\n",
    "# Define a function\n",
    "def calculate_mean(values):\n",
    "    \"\"\"Calculate the mean of a list of values.\"\"\"\n",
    "    return sum(values) / len(values)\n",
    "\n",
    "\n",
    "print(\"Variables created successfully!\")"
   ]
  },
  {
   "cell_type": "markdown",
   "metadata": {},
   "source": [
    "## 2. Create and Display the Assistant Widget"
   ]
  },
  {
   "cell_type": "code",
   "execution_count": null,
   "metadata": {},
   "outputs": [],
   "source": [
    "# Create the agent widget with AI configuration\n",
    "assistant = AgentWidget(\n",
    "    ai_config={\n",
    "        # Optional: Override automatic provider detection\n",
    "        # 'provider': 'openai',  # or 'anthropic', 'google_genai'\n",
    "        # 'model': 'gpt-4',  # or 'claude-3-opus', 'gemini-pro'\n",
    "        \"require_approval\": True  # Auto-approve code execution for demo\n",
    "    }\n",
    ")\n",
    "\n",
    "# The widget automatically detects available API keys:\n",
    "# - If you have multiple keys, it uses them in order: OpenAI → Anthropic → Google\n",
    "# - If you have only one key (e.g., only Google), it uses that automatically\n",
    "# - If no keys are found, it falls back to a helpful mock AI\n",
    "\n",
    "# Display it\n",
    "assistant"
   ]
  },
  {
   "cell_type": "markdown",
   "metadata": {},
   "source": [
    "## 3. Ways to Interact\n",
    "\n",
    "You can interact with the assistant in two ways:\n",
    "\n",
    "### Natural Language (AI-Powered)\n",
    "Just type naturally! The AI understands your intent and uses kernel tools automatically:\n",
    "- \"Show me all my variables\"\n",
    "- \"What's the shape of data_array?\"\n",
    "- \"Calculate the correlation between columns A and B in df\"\n",
    "- \"Create a histogram of column A\"\n",
    "- \"Help me understand this error\"\n",
    "\n",
    "### Direct Commands\n",
    "For precise control, use slash commands:\n",
    "\n",
    "**Variable Exploration**\n",
    "- `/vars` - List all variables in the kernel\n",
    "- `/inspect df` - Get detailed information about the DataFrame\n",
    "- `/inspect data_array` - Inspect the numpy array\n",
    "- `/inspect calculate_mean` - Look at the function\n",
    "\n",
    "**Code Execution**\n",
    "- `/exec df.describe()` - Run DataFrame describe\n",
    "- `/exec print(data_array.shape)` - Check array shape\n",
    "- `/exec result = calculate_mean(numbers)` - Execute the function\n",
    "- `/exec print(f\"Mean: {result}\")` - Print the result\n",
    "\n",
    "**Other Commands**\n",
    "- `/help` - Show all available commands\n",
    "- `/clear` - Clear the namespace (with confirmation)"
   ]
  },
  {
   "cell_type": "markdown",
   "metadata": {},
   "source": [
    "## AI Integration\n",
    "\n",
    "The assistant now has AI capabilities with automatic provider detection!\n",
    "\n",
    "### Automatic Provider Detection\n",
    "\n",
    "The widget automatically:\n",
    "1. **Loads API keys from `.env` file** using python-dotenv\n",
    "2. **Detects available providers** and selects the best one\n",
    "3. **Uses smart defaults** - GPT-4 for OpenAI, Claude Opus for Anthropic, Gemini Pro for Google\n",
    "4. **Falls back gracefully** - If no API keys are found, uses a helpful mock AI\n",
    "\n",
    "### Setting Up API Keys\n",
    "\n",
    "Create a `.env` file in your project root (see `.env.example`):\n",
    "```bash\n",
    "# Any of these will work - the widget picks the first available\n",
    "OPENAI_API_KEY=sk-...\n",
    "ANTHROPIC_API_KEY=sk-ant-...\n",
    "GOOGLE_API_KEY=...\n",
    "```\n",
    "\n",
    "### Example Questions to Try:\n",
    "\n",
    "- \"What variables do I have in my namespace?\"\n",
    "- \"Can you show me what's in the df variable?\"\n",
    "- \"Calculate the mean of column A in df\"\n",
    "- \"Create a scatter plot of the data_array\"\n",
    "- \"Why am I getting an error with undefined_variable?\"\n",
    "\n",
    "### Supported AI Providers:\n",
    "\n",
    "The widget supports multiple AI providers:\n",
    "- **OpenAI**: GPT-4, GPT-3.5-turbo\n",
    "- **Anthropic**: Claude 3 Opus, Sonnet, Haiku\n",
    "- **Google**: Gemini Pro, Gemini Ultra\n",
    "\n",
    "If only one API key is set (e.g., only Google), it will be used automatically!"
   ]
  },
  {
   "cell_type": "markdown",
   "metadata": {},
   "source": [
    "## 4. Programmatic Interaction\n",
    "\n",
    "You can also interact with the widget programmatically:"
   ]
  },
  {
   "cell_type": "code",
   "execution_count": null,
   "metadata": {},
   "outputs": [],
   "source": [
    "# Add a message from Python\n",
    "assistant.add_message(\"assistant\", \"Let me help you explore your kernel variables!\")\n",
    "\n",
    "# Inspect a variable programmatically\n",
    "df_info = assistant.inspect_variable(\"df\")\n",
    "if df_info:\n",
    "    print(f\"DataFrame shape: {df_info['shape']}\")\n",
    "    print(f\"DataFrame type: {df_info['type']}\")"
   ]
  },
  {
   "cell_type": "code",
   "execution_count": null,
   "metadata": {},
   "outputs": [],
   "source": [
    "# Execute code and show result\n",
    "result = assistant.execute_code(\"df['A'].mean()\", show_result=True)\n",
    "print(f\"\\nExecution successful: {result['success']}\")"
   ]
  },
  {
   "cell_type": "code",
   "execution_count": null,
   "metadata": {},
   "outputs": [],
   "source": [
    "# Set action buttons for quick operations\n",
    "assistant.set_action_buttons(\n",
    "    [\n",
    "        {\"text\": \"Show Variables\", \"color\": \"#28a745\", \"icon\": \"📊\"},\n",
    "        {\"text\": \"Run df.info()\", \"color\": \"#007bff\", \"icon\": \"▶️\"},\n",
    "        {\"text\": \"Clear Output\", \"color\": \"#6c757d\", \"icon\": \"🧹\"},\n",
    "    ]\n",
    ")"
   ]
  },
  {
   "cell_type": "markdown",
   "metadata": {},
   "source": [
    "## 5. Create an Error for Debugging Demo"
   ]
  },
  {
   "cell_type": "code",
   "execution_count": null,
   "metadata": {},
   "outputs": [],
   "source": [
    "# This will create an error\n",
    "try:\n",
    "    undefined_variable\n",
    "except NameError as e:\n",
    "    print(f\"Error caught: {e}\")\n",
    "    # The assistant can help debug this!"
   ]
  },
  {
   "cell_type": "markdown",
   "metadata": {},
   "source": [
    "## 6. Advanced Features\n",
    "\n",
    "### Current Kernel State"
   ]
  },
  {
   "cell_type": "code",
   "execution_count": null,
   "metadata": {},
   "outputs": [],
   "source": [
    "# Check the kernel state\n",
    "print(\"Kernel State:\")\n",
    "print(f\"Available: {assistant.kernel_state['available']}\")\n",
    "print(f\"Status: {assistant.kernel_state['status']}\")\n",
    "print(f\"Namespace size: {assistant.kernel_state['namespace_size']}\")\n",
    "print(f\"Variables by type: {assistant.kernel_state['variables_by_type']}\")"
   ]
  },
  {
   "cell_type": "markdown",
   "metadata": {},
   "source": [
    "### Variable Information"
   ]
  },
  {
   "cell_type": "code",
   "execution_count": null,
   "metadata": {},
   "outputs": [],
   "source": [
    "# Get detailed variable information\n",
    "print(\"Variables in namespace:\")\n",
    "for var_info in assistant.variables_info[:5]:  # Show first 5\n",
    "    print(\n",
    "        f\"- {var_info['name']}: {var_info['type']} \"\n",
    "        f\"{'(callable)' if var_info['is_callable'] else ''}\"\n",
    "    )"
   ]
  },
  {
   "cell_type": "markdown",
   "metadata": {},
   "source": [
    "### Conversation Logging\n",
    "\n",
    "All conversations are automatically logged with timestamps:"
   ]
  },
  {
   "cell_type": "code",
   "execution_count": null,
   "metadata": {},
   "outputs": [],
   "source": [
    "# Get the conversation log path\n",
    "log_path = assistant.get_conversation_log_path()\n",
    "print(f\"Conversations are being logged to: {log_path}\")\n",
    "\n",
    "# You can read the log file to see all interactions\n",
    "if log_path:\n",
    "    import json\n",
    "\n",
    "    with open(log_path, \"r\") as f:\n",
    "        log_data = json.load(f)\n",
    "\n",
    "    print(f\"\\nSession started: {log_data['session_start']}\")\n",
    "    print(f\"Total conversations: {len(log_data['conversations'])}\")\n",
    "\n",
    "    # Show last conversation if any\n",
    "    if log_data[\"conversations\"]:\n",
    "        last_conv = log_data[\"conversations\"][-1]\n",
    "        print(\"\\nLast conversation:\")\n",
    "        print(f\"  User: {last_conv['user_message']}\")\n",
    "        print(f\"  AI: {last_conv['ai_response'][:100]}...\")\n",
    "        print(f\"  Thread ID: {last_conv['thread_id']}\")"
   ]
  },
  {
   "cell_type": "markdown",
   "metadata": {},
   "source": [
    "## Summary\n",
    "\n",
    "The assistant widget provides:\n",
    "\n",
    "1. **AI-Powered Assistant** - Natural language understanding with multiple provider support\n",
    "2. **Direct Kernel Access** - Read and execute code in your notebook's kernel\n",
    "3. **Variable Inspection** - Deep inspection of any variable type\n",
    "4. **Interactive Commands** - Simple slash commands for common operations\n",
    "5. **Programmatic API** - Full control from Python code\n",
    "6. **Real-time Updates** - Kernel state synchronized with the UI\n",
    "\n",
    "The AI assistant can:\n",
    "- Understand your questions and provide intelligent responses\n",
    "- Automatically use kernel tools to inspect variables and execute code\n",
    "- Help debug errors and understand your data\n",
    "- Work even without an API key (using a helpful mock AI)\n",
    "\n",
    "This creates a powerful AI assistant that truly understands your notebook context!"
   ]
  }
 ],
 "metadata": {
  "kernelspec": {
   "display_name": ".venv",
   "language": "python",
   "name": "python3"
  },
  "language_info": {
   "codemirror_mode": {
    "name": "ipython",
    "version": 3
   },
   "file_extension": ".py",
   "mimetype": "text/x-python",
   "name": "python",
   "nbconvert_exporter": "python",
   "pygments_lexer": "ipython3",
   "version": "3.11.12"
  }
 },
 "nbformat": 4,
 "nbformat_minor": 4
}
