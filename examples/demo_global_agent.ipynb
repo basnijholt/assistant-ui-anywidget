{
 "cells": [
  {
   "cell_type": "markdown",
   "metadata": {},
   "source": [
    "# Global Agent Demo - Simple Notebook Interface\n",
    "\n",
    "This notebook demonstrates the new global agent interface that prevents keyboard shortcut conflicts in Jupyter notebooks."
   ]
  },
  {
   "cell_type": "markdown",
   "metadata": {},
   "source": [
    "## 1. Import and Get Agent (Simple Way)\n",
    "\n",
    "The new interface provides a simple way to get an AI assistant without worrying about keyboard conflicts:"
   ]
  },
  {
   "cell_type": "code",
   "execution_count": null,
   "metadata": {},
   "outputs": [],
   "source": [
    "# The new recommended way - simple and safe!\n",
    "from assistant_ui_anywidget import get_agent\n",
    "\n",
    "# Get the global agent instance (creates if doesn't exist)\n",
    "agent = get_agent()\n",
    "agent"
   ]
  },
  {
   "cell_type": "markdown",
   "metadata": {},
   "source": [
    "## 2. Key Benefits\n",
    "\n",
    "### 🔥 **Keyboard Safety**\n",
    "- Uses **Ctrl+D** to send messages (not Shift+Enter)\n",
    "- No more accidental cell execution when chatting!\n",
    "- Works consistently across different Jupyter environments\n",
    "\n",
    "### 🎯 **Global State**\n",
    "- Same agent instance across all notebook cells\n",
    "- Persistent chat history and configuration\n",
    "- No need to pass around widget instances\n",
    "\n",
    "### ⚡ **Simple API**\n",
    "- One line to get started: `get_agent()`\n",
    "- Sensible defaults (auto-approve code, auto-detect AI provider)\n",
    "- Thread-safe global state management"
   ]
  },
  {
   "cell_type": "markdown",
   "metadata": {},
   "source": [
    "## 3. Create Some Test Data\n",
    "\n",
    "Let's create some variables the agent can explore:"
   ]
  },
  {
   "cell_type": "code",
   "execution_count": null,
   "metadata": {},
   "outputs": [],
   "source": [
    "import numpy as np\n",
    "import pandas as pd\n",
    "\n",
    "# Create test data\n",
    "x = 42\n",
    "data = np.random.randn(100, 3)\n",
    "df = pd.DataFrame(\n",
    "    {\n",
    "        \"A\": np.random.randn(50),\n",
    "        \"B\": np.random.randn(50),\n",
    "        \"C\": np.random.choice([\"cat\", \"dog\", \"bird\"], 50),\n",
    "    }\n",
    ")\n",
    "\n",
    "print(\"Test data created! Ask the agent to explore it.\")\n",
    "print(\"Try: 'Show me all my variables' or 'What's in my DataFrame?'\")"
   ]
  },
  {
   "cell_type": "markdown",
   "metadata": {},
   "source": [
    "## 4. Custom Configuration\n",
    "\n",
    "You can still customize the agent configuration:"
   ]
  },
  {
   "cell_type": "code",
   "execution_count": null,
   "metadata": {},
   "outputs": [],
   "source": [
    "# Create agent with custom configuration\n",
    "custom_agent = get_agent(\n",
    "    require_approval=True,  # Ask before executing code\n",
    "    provider=\"openai\",  # Force specific provider\n",
    "    model=\"gpt-4\",  # Force specific model\n",
    "    temperature=0.3,  # Make responses more focused\n",
    "    reset=True,  # Create fresh instance\n",
    ")\n",
    "\n",
    "print(\"Custom agent created with approval required!\")"
   ]
  },
  {
   "cell_type": "markdown",
   "metadata": {},
   "source": [
    "## 💡 Usage Tips\n",
    "\n",
    "1. **Sending Messages**: Use **Ctrl+D** (or Cmd+D on Mac) to send messages\n",
    "2. **Global Instance**: The same agent persists across all cells - no need to recreate\n",
    "3. **Auto-Configuration**: The agent auto-detects available AI providers (OpenAI, Anthropic, Google)\n",
    "4. **Slash Commands**: Use `/vars`, `/help`, `/exec code` for direct control\n",
    "5. **Natural Language**: Just ask questions like \"Show me my DataFrame\" or \"Help debug this error\"\n",
    "\n",
    "**Remember**: Use **Ctrl+D** to chat, **Shift+Enter** to execute cells!"
   ]
  }
 ],
 "metadata": {
  "kernelspec": {
   "display_name": ".venv",
   "language": "python",
   "name": "python3"
  },
  "language_info": {
   "codemirror_mode": {
    "name": "ipython",
    "version": 3
   },
   "file_extension": ".py",
   "mimetype": "text/x-python",
   "name": "python",
   "nbconvert_exporter": "python",
   "pygments_lexer": "ipython3",
   "version": "3.11.12"
  }
 },
 "nbformat": 4,
 "nbformat_minor": 4
}
